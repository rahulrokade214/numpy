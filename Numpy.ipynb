{
 "cells": [
  {
   "cell_type": "code",
   "execution_count": 2,
   "id": "ab9dd274-b250-4bad-ab28-f5e7d708a4d7",
   "metadata": {},
   "outputs": [],
   "source": [
    "import numpy as np"
   ]
  },
  {
   "cell_type": "code",
   "execution_count": 3,
   "id": "d6dc690f-ebbd-4196-83d4-8d7868274606",
   "metadata": {},
   "outputs": [],
   "source": [
    "l = [1,2,3,4,5]"
   ]
  },
  {
   "cell_type": "code",
   "execution_count": 4,
   "id": "7237e3ef-3de2-4365-a1bd-313587cbb900",
   "metadata": {},
   "outputs": [],
   "source": [
    "ar = np.array(l)"
   ]
  },
  {
   "cell_type": "code",
   "execution_count": 5,
   "id": "07487a77-1bf1-446e-8367-c81e4651e110",
   "metadata": {},
   "outputs": [
    {
     "data": {
      "text/plain": [
       "numpy.ndarray"
      ]
     },
     "execution_count": 5,
     "metadata": {},
     "output_type": "execute_result"
    }
   ],
   "source": [
    "type(ar)"
   ]
  },
  {
   "cell_type": "code",
   "execution_count": 6,
   "id": "aa727f4c-32f4-4d5e-9b07-beff4d748c37",
   "metadata": {},
   "outputs": [],
   "source": [
    "a = [1,2,3,4]"
   ]
  },
  {
   "cell_type": "code",
   "execution_count": 34,
   "id": "de8a5f2c-fa9e-4adc-b398-4b8015c5aafb",
   "metadata": {},
   "outputs": [],
   "source": [
    "c = np.copy(a)       #deep copy"
   ]
  },
  {
   "cell_type": "code",
   "execution_count": 26,
   "id": "6b69fbac-c94a-4221-9f13-ed86a6949ef7",
   "metadata": {},
   "outputs": [
    {
     "data": {
      "text/plain": [
       "array([1, 2, 3, 4])"
      ]
     },
     "execution_count": 26,
     "metadata": {},
     "output_type": "execute_result"
    }
   ],
   "source": [
    "c"
   ]
  },
  {
   "cell_type": "code",
   "execution_count": 27,
   "id": "6e791281-f6a5-403a-8343-825b8176c42d",
   "metadata": {},
   "outputs": [],
   "source": [
    "a[1]=100"
   ]
  },
  {
   "cell_type": "code",
   "execution_count": 28,
   "id": "3224e05f-a74f-4ab0-bd9f-59c5081cfc32",
   "metadata": {},
   "outputs": [
    {
     "data": {
      "text/plain": [
       "array([1, 2, 3, 4])"
      ]
     },
     "execution_count": 28,
     "metadata": {},
     "output_type": "execute_result"
    }
   ],
   "source": [
    "c"
   ]
  },
  {
   "cell_type": "code",
   "execution_count": 29,
   "id": "27b49150-606b-4421-b254-5553457d7f21",
   "metadata": {},
   "outputs": [
    {
     "data": {
      "text/plain": [
       "[1, 100, 3, 4]"
      ]
     },
     "execution_count": 29,
     "metadata": {},
     "output_type": "execute_result"
    }
   ],
   "source": [
    "a"
   ]
  },
  {
   "cell_type": "code",
   "execution_count": 30,
   "id": "da21f3a9-34a3-4cf7-8950-8ce29a0e1e0a",
   "metadata": {},
   "outputs": [],
   "source": [
    "c[0] = 200"
   ]
  },
  {
   "cell_type": "code",
   "execution_count": 31,
   "id": "e85bca4d-4840-40fe-88f4-209f836b6657",
   "metadata": {},
   "outputs": [
    {
     "data": {
      "text/plain": [
       "array([200,   2,   3,   4])"
      ]
     },
     "execution_count": 31,
     "metadata": {},
     "output_type": "execute_result"
    }
   ],
   "source": [
    "c"
   ]
  },
  {
   "cell_type": "code",
   "execution_count": 32,
   "id": "9e9f4400-8ba8-4e20-8645-a0128f4578a3",
   "metadata": {},
   "outputs": [
    {
     "data": {
      "text/plain": [
       "[1, 100, 3, 4]"
      ]
     },
     "execution_count": 32,
     "metadata": {},
     "output_type": "execute_result"
    }
   ],
   "source": [
    "a"
   ]
  },
  {
   "cell_type": "code",
   "execution_count": 36,
   "id": "6446c9e6-cc42-47da-a6c2-c3f04d398cf6",
   "metadata": {},
   "outputs": [
    {
     "data": {
      "text/plain": [
       "array([[ True, False, False],\n",
       "       [False,  True, False],\n",
       "       [False, False,  True]])"
      ]
     },
     "execution_count": 36,
     "metadata": {},
     "output_type": "execute_result"
    }
   ],
   "source": [
    "np.fromfunction(lambda i,j : i==j ,(3,3))"
   ]
  },
  {
   "cell_type": "code",
   "execution_count": 37,
   "id": "e46db0e7-d8a9-43a4-b804-f29e7b4cb6e9",
   "metadata": {},
   "outputs": [
    {
     "data": {
      "text/plain": [
       "array([[0., 0., 0.],\n",
       "       [0., 1., 2.],\n",
       "       [0., 2., 4.]])"
      ]
     },
     "execution_count": 37,
     "metadata": {},
     "output_type": "execute_result"
    }
   ],
   "source": [
    "np.fromfunction(lambda i,j : i*j ,(3,3))"
   ]
  },
  {
   "cell_type": "code",
   "execution_count": 38,
   "id": "db1c7f2c-0bbd-483c-b2f5-ae921a24fea9",
   "metadata": {},
   "outputs": [
    {
     "data": {
      "text/plain": [
       "array([[0., 1., 2.],\n",
       "       [1., 2., 3.],\n",
       "       [2., 3., 4.]])"
      ]
     },
     "execution_count": 38,
     "metadata": {},
     "output_type": "execute_result"
    }
   ],
   "source": [
    "np.fromfunction(lambda i,j : i+j ,(3,3))"
   ]
  },
  {
   "cell_type": "code",
   "execution_count": 65,
   "id": "a667e2ca-7a73-4f01-b346-528c986178c3",
   "metadata": {},
   "outputs": [],
   "source": [
    "w = np.fromfunction(lambda i,j : i-j ,(3,3))"
   ]
  },
  {
   "cell_type": "code",
   "execution_count": 66,
   "id": "44ba0ffd-189a-40dd-88f4-3c8810f4b6dc",
   "metadata": {},
   "outputs": [
    {
     "data": {
      "text/plain": [
       "array([[ 0., -1., -2.],\n",
       "       [ 1.,  0., -1.],\n",
       "       [ 2.,  1.,  0.]])"
      ]
     },
     "execution_count": 66,
     "metadata": {},
     "output_type": "execute_result"
    }
   ],
   "source": [
    "w"
   ]
  },
  {
   "cell_type": "code",
   "execution_count": 67,
   "id": "a9b2664f-d200-4248-bb1e-978e8a940582",
   "metadata": {},
   "outputs": [
    {
     "data": {
      "text/plain": [
       "2"
      ]
     },
     "execution_count": 67,
     "metadata": {},
     "output_type": "execute_result"
    }
   ],
   "source": [
    "w.ndim"
   ]
  },
  {
   "cell_type": "code",
   "execution_count": 48,
   "id": "1354d780-b7c7-43a5-8fa1-e54389de6b72",
   "metadata": {},
   "outputs": [],
   "source": [
    "iterable = (i*i for i in range(5))"
   ]
  },
  {
   "cell_type": "code",
   "execution_count": 49,
   "id": "592584bf-0852-4012-a407-b33af8a1af38",
   "metadata": {},
   "outputs": [],
   "source": [
    "np.fromiter(iterable , int)"
   ]
  },
  {
   "cell_type": "code",
   "execution_count": 57,
   "id": "ea40be9e-553b-4b5f-a6b5-d3c56ace348d",
   "metadata": {},
   "outputs": [
    {
     "data": {
      "text/plain": [
       "array([4., 5.])"
      ]
     },
     "execution_count": 57,
     "metadata": {},
     "output_type": "execute_result"
    }
   ],
   "source": [
    "np.fromstring('4 5' ,sep='  '  )"
   ]
  },
  {
   "cell_type": "code",
   "execution_count": 58,
   "id": "b2b9d8cd-5f93-41ed-b746-2a04b4acea46",
   "metadata": {},
   "outputs": [
    {
     "data": {
      "text/plain": [
       "array([4., 5., 6., 7.])"
      ]
     },
     "execution_count": 58,
     "metadata": {},
     "output_type": "execute_result"
    }
   ],
   "source": [
    " np.fromstring('4,5,6,7' , sep=','  )"
   ]
  },
  {
   "cell_type": "code",
   "execution_count": 59,
   "id": "e326735a-b19d-444c-a43b-d3a08b1898e4",
   "metadata": {},
   "outputs": [
    {
     "data": {
      "text/plain": [
       "[1, 2, 3, 4, 5]"
      ]
     },
     "execution_count": 59,
     "metadata": {},
     "output_type": "execute_result"
    }
   ],
   "source": [
    "l "
   ]
  },
  {
   "cell_type": "code",
   "execution_count": 191,
   "id": "bfa2ce1b-0cd1-4812-9281-822a9d54668f",
   "metadata": {},
   "outputs": [],
   "source": [
    "ar = np.array(l)"
   ]
  },
  {
   "cell_type": "code",
   "execution_count": 100,
   "id": "28bc1589-c7e2-42a3-bd74-f3f15382f1ab",
   "metadata": {},
   "outputs": [
    {
     "data": {
      "text/plain": [
       "1"
      ]
     },
     "execution_count": 100,
     "metadata": {},
     "output_type": "execute_result"
    }
   ],
   "source": [
    "ar.ndim"
   ]
  },
  {
   "cell_type": "code",
   "execution_count": 91,
   "id": "4b74203f-6f4a-49ac-a907-868a86f368a0",
   "metadata": {},
   "outputs": [
    {
     "data": {
      "text/plain": [
       "[[[1, 2, 3, 4], [0, 1, 2, 3]]]"
      ]
     },
     "execution_count": 91,
     "metadata": {},
     "output_type": "execute_result"
    }
   ],
   "source": [
    "a= [[[1,2,3,4],[0,1,2,3]]]\n",
    "a"
   ]
  },
  {
   "cell_type": "code",
   "execution_count": 95,
   "id": "57c1b421-0f37-48ce-905c-89cbc042b0fd",
   "metadata": {},
   "outputs": [
    {
     "data": {
      "text/plain": [
       "array([[[1, 2, 3, 4],\n",
       "        [0, 1, 2, 3]]])"
      ]
     },
     "execution_count": 95,
     "metadata": {},
     "output_type": "execute_result"
    }
   ],
   "source": [
    "ar3 =np.array(a)\n",
    "ar3"
   ]
  },
  {
   "cell_type": "code",
   "execution_count": 96,
   "id": "b9ab7f5c-71dd-425b-b0cc-9ef701e0c742",
   "metadata": {},
   "outputs": [
    {
     "data": {
      "text/plain": [
       "3"
      ]
     },
     "execution_count": 96,
     "metadata": {},
     "output_type": "execute_result"
    }
   ],
   "source": [
    "ar3.ndim"
   ]
  },
  {
   "cell_type": "code",
   "execution_count": 97,
   "id": "dbedf09e-4aff-4c63-88c4-6ccefb5da965",
   "metadata": {},
   "outputs": [
    {
     "data": {
      "text/plain": [
       "(1, 2, 4)"
      ]
     },
     "execution_count": 98,
     "metadata": {},
     "output_type": "execute_result"
    }
   ],
   "source": [
    "ar3.shap"
   ]
  },
  {
   "cell_type": "code",
   "execution_count": 192,
   "id": "d11d8427-2666-41cf-b01f-e181ba189f0e",
   "metadata": {},
   "outputs": [
    {
     "data": {
      "text/plain": [
       "array([1, 2, 3, 4, 5])"
      ]
     },
     "execution_count": 192,
     "metadata": {},
     "output_type": "execute_result"
    }
   ],
   "source": [
    "ar"
   ]
  },
  {
   "cell_type": "code",
   "execution_count": 101,
   "id": "cd2e3f4c-4656-4fa5-ae58-778b20985f70",
   "metadata": {},
   "outputs": [
    {
     "data": {
      "text/plain": [
       "(5,)"
      ]
     },
     "execution_count": 101,
     "metadata": {},
     "output_type": "execute_result"
    }
   ],
   "source": [
    "ar.shape"
   ]
  },
  {
   "cell_type": "code",
   "execution_count": 102,
   "id": "27550a97-69b7-4ac2-9190-2f7281ee354f",
   "metadata": {},
   "outputs": [
    {
     "data": {
      "text/plain": [
       "dtype('int64')"
      ]
     },
     "execution_count": 102,
     "metadata": {},
     "output_type": "execute_result"
    }
   ],
   "source": [
    "ar3.dtype"
   ]
  },
  {
   "cell_type": "code",
   "execution_count": 103,
   "id": "4991b4dc-3c6f-4fb4-adc0-a896cb7bf42a",
   "metadata": {},
   "outputs": [
    {
     "data": {
      "text/plain": [
       "dtype('int64')"
      ]
     },
     "execution_count": 103,
     "metadata": {},
     "output_type": "execute_result"
    }
   ],
   "source": [
    "ar.dtype"
   ]
  },
  {
   "cell_type": "code",
   "execution_count": null,
   "id": "cdc70a5b-bb15-41c0-8270-d197414441bb",
   "metadata": {},
   "outputs": [],
   "source": []
  },
  {
   "cell_type": "code",
   "execution_count": 107,
   "id": "f7cd6676-65ac-4ab1-a95a-73dc24d0238d",
   "metadata": {},
   "outputs": [
    {
     "data": {
      "text/plain": [
       "array([0.1, 1.1, 2.1, 3.1, 4.1, 5.1])"
      ]
     },
     "execution_count": 107,
     "metadata": {},
     "output_type": "execute_result"
    }
   ],
   "source": [
    "np.arange(0.1,6.1)"
   ]
  },
  {
   "cell_type": "code",
   "execution_count": 116,
   "id": "650db247-a531-4aea-b42e-c0f357c9606c",
   "metadata": {},
   "outputs": [
    {
     "data": {
      "text/plain": [
       "[1.2, 1.7, 2.2, 2.7, 3.2, 3.7, 4.2, 4.7, 5.2, 5.7, 6.2]"
      ]
     },
     "execution_count": 116,
     "metadata": {},
     "output_type": "execute_result"
    }
   ],
   "source": [
    "list(np.arange(1.2,6.5,.5))"
   ]
  },
  {
   "cell_type": "code",
   "execution_count": 119,
   "id": "a699fb2c-e93a-4c53-847e-81efc08a85d1",
   "metadata": {},
   "outputs": [
    {
     "data": {
      "text/plain": [
       "array([1.        , 1.45454545, 1.90909091, 2.36363636, 2.81818182,\n",
       "       3.27272727, 3.72727273, 4.18181818, 4.63636364, 5.09090909,\n",
       "       5.54545455, 6.        ])"
      ]
     },
     "execution_count": 119,
     "metadata": {},
     "output_type": "execute_result"
    }
   ],
   "source": [
    "np.linspace(1,6,12)"
   ]
  },
  {
   "cell_type": "code",
   "execution_count": 121,
   "id": "e18023ac-9082-49b1-9211-9a8cf5caee60",
   "metadata": {},
   "outputs": [
    {
     "data": {
      "text/plain": [
       "array([[0., 0., 0., 0.],\n",
       "       [0., 0., 0., 0.],\n",
       "       [0., 0., 0., 0.]])"
      ]
     },
     "execution_count": 121,
     "metadata": {},
     "output_type": "execute_result"
    }
   ],
   "source": [
    "np.zeros((3,4))"
   ]
  },
  {
   "cell_type": "code",
   "execution_count": 122,
   "id": "fb443c03-b4f3-4daf-baa9-155cf53d8e50",
   "metadata": {},
   "outputs": [
    {
     "data": {
      "text/plain": [
       "array([[[0., 0., 0.],\n",
       "        [0., 0., 0.],\n",
       "        [0., 0., 0.],\n",
       "        [0., 0., 0.]],\n",
       "\n",
       "       [[0., 0., 0.],\n",
       "        [0., 0., 0.],\n",
       "        [0., 0., 0.],\n",
       "        [0., 0., 0.]],\n",
       "\n",
       "       [[0., 0., 0.],\n",
       "        [0., 0., 0.],\n",
       "        [0., 0., 0.],\n",
       "        [0., 0., 0.]]])"
      ]
     },
     "execution_count": 122,
     "metadata": {},
     "output_type": "execute_result"
    }
   ],
   "source": [
    "np.zeros((3,4,3))"
   ]
  },
  {
   "cell_type": "code",
   "execution_count": 124,
   "id": "370f2634-1a8c-4681-adb0-1a9335fe31a1",
   "metadata": {},
   "outputs": [],
   "source": [
    "ar = np.zeros((3,4,3,2))"
   ]
  },
  {
   "cell_type": "code",
   "execution_count": 125,
   "id": "dbf9107a-a992-4f61-ab2a-0522e83c351b",
   "metadata": {},
   "outputs": [
    {
     "data": {
      "text/plain": [
       "4"
      ]
     },
     "execution_count": 125,
     "metadata": {},
     "output_type": "execute_result"
    }
   ],
   "source": [
    "ar.ndim"
   ]
  },
  {
   "cell_type": "code",
   "execution_count": 126,
   "id": "be1d3c36-9671-409b-ad08-715fac5ee048",
   "metadata": {},
   "outputs": [
    {
     "data": {
      "text/plain": [
       "array([[[[0., 0.],\n",
       "         [0., 0.],\n",
       "         [0., 0.]],\n",
       "\n",
       "        [[0., 0.],\n",
       "         [0., 0.],\n",
       "         [0., 0.]],\n",
       "\n",
       "        [[0., 0.],\n",
       "         [0., 0.],\n",
       "         [0., 0.]],\n",
       "\n",
       "        [[0., 0.],\n",
       "         [0., 0.],\n",
       "         [0., 0.]]],\n",
       "\n",
       "\n",
       "       [[[0., 0.],\n",
       "         [0., 0.],\n",
       "         [0., 0.]],\n",
       "\n",
       "        [[0., 0.],\n",
       "         [0., 0.],\n",
       "         [0., 0.]],\n",
       "\n",
       "        [[0., 0.],\n",
       "         [0., 0.],\n",
       "         [0., 0.]],\n",
       "\n",
       "        [[0., 0.],\n",
       "         [0., 0.],\n",
       "         [0., 0.]]],\n",
       "\n",
       "\n",
       "       [[[0., 0.],\n",
       "         [0., 0.],\n",
       "         [0., 0.]],\n",
       "\n",
       "        [[0., 0.],\n",
       "         [0., 0.],\n",
       "         [0., 0.]],\n",
       "\n",
       "        [[0., 0.],\n",
       "         [0., 0.],\n",
       "         [0., 0.]],\n",
       "\n",
       "        [[0., 0.],\n",
       "         [0., 0.],\n",
       "         [0., 0.]]]])"
      ]
     },
     "execution_count": 126,
     "metadata": {},
     "output_type": "execute_result"
    }
   ],
   "source": [
    "ar"
   ]
  },
  {
   "cell_type": "code",
   "execution_count": 132,
   "id": "5c07ca51-fd57-4c16-acfe-60cefec8ee32",
   "metadata": {},
   "outputs": [
    {
     "data": {
      "text/plain": [
       "array([[1., 1., 1., 1.],\n",
       "       [1., 1., 1., 1.]])"
      ]
     },
     "execution_count": 132,
     "metadata": {},
     "output_type": "execute_result"
    }
   ],
   "source": [
    "np.ones((2,4))"
   ]
  },
  {
   "cell_type": "code",
   "execution_count": 134,
   "id": "3dcab38a-163f-4d0f-bdb8-6dfe878ca1f4",
   "metadata": {},
   "outputs": [],
   "source": [
    "a=np.ones((2,4,3))"
   ]
  },
  {
   "cell_type": "code",
   "execution_count": 136,
   "id": "fa71b906-46c6-4d03-ace5-5956249b3396",
   "metadata": {},
   "outputs": [],
   "source": [
    "c = a *2"
   ]
  },
  {
   "cell_type": "code",
   "execution_count": 137,
   "id": "daa7f73b-cb3c-4029-9762-8536706ca059",
   "metadata": {},
   "outputs": [
    {
     "data": {
      "text/plain": [
       "array([[[2., 2., 2.],\n",
       "        [2., 2., 2.],\n",
       "        [2., 2., 2.],\n",
       "        [2., 2., 2.]],\n",
       "\n",
       "       [[2., 2., 2.],\n",
       "        [2., 2., 2.],\n",
       "        [2., 2., 2.],\n",
       "        [2., 2., 2.]]])"
      ]
     },
     "execution_count": 137,
     "metadata": {},
     "output_type": "execute_result"
    }
   ],
   "source": [
    "c"
   ]
  },
  {
   "cell_type": "code",
   "execution_count": 138,
   "id": "a6958b0e-39fb-42cb-9fa0-b8b36710b2c9",
   "metadata": {},
   "outputs": [
    {
     "data": {
      "text/plain": [
       "array([[[7., 7., 7.],\n",
       "        [7., 7., 7.],\n",
       "        [7., 7., 7.],\n",
       "        [7., 7., 7.]],\n",
       "\n",
       "       [[7., 7., 7.],\n",
       "        [7., 7., 7.],\n",
       "        [7., 7., 7.],\n",
       "        [7., 7., 7.]]])"
      ]
     },
     "execution_count": 138,
     "metadata": {},
     "output_type": "execute_result"
    }
   ],
   "source": [
    "c+5"
   ]
  },
  {
   "cell_type": "code",
   "execution_count": 147,
   "id": "94744682-f75d-4fef-b0b7-596c713f785e",
   "metadata": {},
   "outputs": [
    {
     "data": {
      "text/plain": [
       "array([[ 4.65966729e-310,  0.00000000e+000,  5.65622866e+303,\n",
       "        -7.52075315e-304],\n",
       "       [-7.52075315e-304,  5.65622866e+303,  5.65622866e+303,\n",
       "        -7.52075315e-304],\n",
       "       [-7.52075315e-304,  5.65622866e+303,  5.65622866e+303,\n",
       "        -7.52075315e-304],\n",
       "       [-7.52075315e-304,  5.65622866e+303,  5.65622866e+303,\n",
       "         8.20430627e-304],\n",
       "       [ 9.11571042e-304,  9.11571042e-304, -7.52075315e-304,\n",
       "        -7.52075315e-304]])"
      ]
     },
     "execution_count": 147,
     "metadata": {},
     "output_type": "execute_result"
    }
   ],
   "source": [
    "np.empty((5,4))"
   ]
  },
  {
   "cell_type": "code",
   "execution_count": 193,
   "id": "0c6bd898-cfe1-4cb9-b21c-c5bf785daf54",
   "metadata": {},
   "outputs": [
    {
     "data": {
      "text/plain": [
       "array([[1., 0., 0., 0.],\n",
       "       [0., 1., 0., 0.],\n",
       "       [0., 0., 1., 0.],\n",
       "       [0., 0., 0., 1.]])"
      ]
     },
     "execution_count": 193,
     "metadata": {},
     "output_type": "execute_result"
    }
   ],
   "source": [
    "a =np.eye((4)) \n",
    "a"
   ]
  },
  {
   "cell_type": "code",
   "execution_count": 196,
   "id": "ccf14d42-7fc5-4205-a0f4-98190919b026",
   "metadata": {},
   "outputs": [],
   "source": [
    "import pandas as pd"
   ]
  },
  {
   "cell_type": "code",
   "execution_count": 195,
   "id": "22ba02a4-7ed0-475d-8a0e-500e63646101",
   "metadata": {},
   "outputs": [
    {
     "data": {
      "text/html": [
       "<div>\n",
       "<style scoped>\n",
       "    .dataframe tbody tr th:only-of-type {\n",
       "        vertical-align: middle;\n",
       "    }\n",
       "\n",
       "    .dataframe tbody tr th {\n",
       "        vertical-align: top;\n",
       "    }\n",
       "\n",
       "    .dataframe thead th {\n",
       "        text-align: right;\n",
       "    }\n",
       "</style>\n",
       "<table border=\"1\" class=\"dataframe\">\n",
       "  <thead>\n",
       "    <tr style=\"text-align: right;\">\n",
       "      <th></th>\n",
       "      <th>0</th>\n",
       "      <th>1</th>\n",
       "      <th>2</th>\n",
       "      <th>3</th>\n",
       "    </tr>\n",
       "  </thead>\n",
       "  <tbody>\n",
       "    <tr>\n",
       "      <th>0</th>\n",
       "      <td>1.0</td>\n",
       "      <td>0.0</td>\n",
       "      <td>0.0</td>\n",
       "      <td>0.0</td>\n",
       "    </tr>\n",
       "    <tr>\n",
       "      <th>1</th>\n",
       "      <td>0.0</td>\n",
       "      <td>1.0</td>\n",
       "      <td>0.0</td>\n",
       "      <td>0.0</td>\n",
       "    </tr>\n",
       "    <tr>\n",
       "      <th>2</th>\n",
       "      <td>0.0</td>\n",
       "      <td>0.0</td>\n",
       "      <td>1.0</td>\n",
       "      <td>0.0</td>\n",
       "    </tr>\n",
       "    <tr>\n",
       "      <th>3</th>\n",
       "      <td>0.0</td>\n",
       "      <td>0.0</td>\n",
       "      <td>0.0</td>\n",
       "      <td>1.0</td>\n",
       "    </tr>\n",
       "  </tbody>\n",
       "</table>\n",
       "</div>"
      ],
      "text/plain": [
       "     0    1    2    3\n",
       "0  1.0  0.0  0.0  0.0\n",
       "1  0.0  1.0  0.0  0.0\n",
       "2  0.0  0.0  1.0  0.0\n",
       "3  0.0  0.0  0.0  1.0"
      ]
     },
     "execution_count": 195,
     "metadata": {},
     "output_type": "execute_result"
    }
   ],
   "source": [
    "pd.DataFrame(a)"
   ]
  },
  {
   "cell_type": "code",
   "execution_count": 194,
   "id": "deaa44e0-5890-4528-a5f7-68adcafc1e98",
   "metadata": {},
   "outputs": [
    {
     "data": {
      "text/plain": [
       "array([   100.        ,    316.22776602,   1000.        ,   3162.27766017,\n",
       "        10000.        ,  31622.77660168, 100000.        ])"
      ]
     },
     "execution_count": 194,
     "metadata": {},
     "output_type": "execute_result"
    }
   ],
   "source": [
    "np.logspace(2,5 ,7)     # finding logarith  \"2,3,4,5\""
   ]
  },
  {
   "cell_type": "code",
   "execution_count": 154,
   "id": "af7fe6f8-4e08-4f1a-9b40-1617a8804f2f",
   "metadata": {},
   "outputs": [
    {
     "data": {
      "text/plain": [
       "array([[-0.55259668,  0.57330443, -0.31386792,  0.22216175],\n",
       "       [ 0.63995393, -0.15549787,  1.62801137,  1.08747497],\n",
       "       [ 0.11130034,  0.68473592, -1.56451588,  1.83121176]])"
      ]
     },
     "execution_count": 154,
     "metadata": {},
     "output_type": "execute_result"
    }
   ],
   "source": [
    "np.random.randn(3,4)"
   ]
  },
  {
   "cell_type": "code",
   "execution_count": 163,
   "id": "b9cb1e0b-61f3-4e13-9d0a-fbcd5adc5275",
   "metadata": {},
   "outputs": [
    {
     "data": {
      "text/plain": [
       "array([[0.81388773, 0.28219661, 0.7734844 , 0.29494301],\n",
       "       [0.80757932, 0.18589803, 0.12406041, 0.43880134],\n",
       "       [0.85837597, 0.49766137, 0.38576762, 0.90613297]])"
      ]
     },
     "execution_count": 163,
     "metadata": {},
     "output_type": "execute_result"
    }
   ],
   "source": [
    "ar = np.random.rand(3,4)\n",
    "ar"
   ]
  },
  {
   "cell_type": "code",
   "execution_count": 164,
   "id": "1d1cc1c5-415a-4346-ace8-b457296ce980",
   "metadata": {},
   "outputs": [],
   "source": [
    "import pandas as pd"
   ]
  },
  {
   "cell_type": "code",
   "execution_count": 165,
   "id": "d95244a7-acee-4cad-8ef4-970c4f7b1e69",
   "metadata": {},
   "outputs": [
    {
     "data": {
      "text/html": [
       "<div>\n",
       "<style scoped>\n",
       "    .dataframe tbody tr th:only-of-type {\n",
       "        vertical-align: middle;\n",
       "    }\n",
       "\n",
       "    .dataframe tbody tr th {\n",
       "        vertical-align: top;\n",
       "    }\n",
       "\n",
       "    .dataframe thead th {\n",
       "        text-align: right;\n",
       "    }\n",
       "</style>\n",
       "<table border=\"1\" class=\"dataframe\">\n",
       "  <thead>\n",
       "    <tr style=\"text-align: right;\">\n",
       "      <th></th>\n",
       "      <th>0</th>\n",
       "      <th>1</th>\n",
       "      <th>2</th>\n",
       "      <th>3</th>\n",
       "    </tr>\n",
       "  </thead>\n",
       "  <tbody>\n",
       "    <tr>\n",
       "      <th>0</th>\n",
       "      <td>0.813888</td>\n",
       "      <td>0.282197</td>\n",
       "      <td>0.773484</td>\n",
       "      <td>0.294943</td>\n",
       "    </tr>\n",
       "    <tr>\n",
       "      <th>1</th>\n",
       "      <td>0.807579</td>\n",
       "      <td>0.185898</td>\n",
       "      <td>0.124060</td>\n",
       "      <td>0.438801</td>\n",
       "    </tr>\n",
       "    <tr>\n",
       "      <th>2</th>\n",
       "      <td>0.858376</td>\n",
       "      <td>0.497661</td>\n",
       "      <td>0.385768</td>\n",
       "      <td>0.906133</td>\n",
       "    </tr>\n",
       "  </tbody>\n",
       "</table>\n",
       "</div>"
      ],
      "text/plain": [
       "          0         1         2         3\n",
       "0  0.813888  0.282197  0.773484  0.294943\n",
       "1  0.807579  0.185898  0.124060  0.438801\n",
       "2  0.858376  0.497661  0.385768  0.906133"
      ]
     },
     "execution_count": 165,
     "metadata": {},
     "output_type": "execute_result"
    }
   ],
   "source": [
    "pd.DataFrame(ar)"
   ]
  },
  {
   "cell_type": "code",
   "execution_count": 168,
   "id": "b01aba3d-3f52-4c37-adf4-235688fe1ab4",
   "metadata": {},
   "outputs": [
    {
     "data": {
      "text/plain": [
       "array([[1., 0., 0., 0.],\n",
       "       [0., 1., 0., 0.],\n",
       "       [0., 0., 1., 0.],\n",
       "       [0., 0., 0., 1.]])"
      ]
     },
     "execution_count": 168,
     "metadata": {},
     "output_type": "execute_result"
    }
   ],
   "source": [
    "a"
   ]
  },
  {
   "cell_type": "code",
   "execution_count": 167,
   "id": "92741286-2b3f-453a-ab85-a91fc8e335ff",
   "metadata": {},
   "outputs": [],
   "source": [
    "pd.DataFrame(a)"
   ]
  },
  {
   "cell_type": "code",
   "execution_count": 172,
   "id": "024b058f-7cb0-4a27-a6b6-e9b2e7287d89",
   "metadata": {},
   "outputs": [
    {
     "data": {
      "text/plain": [
       "array([[29, 41,  8, ..., 43, 13, 35],\n",
       "       [10, 14,  5, ..., 15, 21, 40],\n",
       "       [20, 40, 33, ...,  7,  9, 18],\n",
       "       ...,\n",
       "       [20,  7, 24, ..., 13, 20, 25],\n",
       "       [26, 23,  4, ...,  4, 15,  5],\n",
       "       [23, 27,  5, ..., 15, 43,  3]])"
      ]
     },
     "execution_count": 172,
     "metadata": {},
     "output_type": "execute_result"
    }
   ],
   "source": [
    "ar = np.random.rand(3,4)"
   ]
  },
  {
   "cell_type": "code",
   "execution_count": 206,
   "id": "7360ada8-3347-4676-a57f-16d7195c034b",
   "metadata": {},
   "outputs": [
    {
     "data": {
      "text/plain": [
       "array([[3, 3, 3, ..., 3, 3, 3],\n",
       "       [3, 3, 3, ..., 3, 3, 3],\n",
       "       [3, 3, 3, ..., 3, 3, 3],\n",
       "       ...,\n",
       "       [3, 3, 3, ..., 3, 3, 3],\n",
       "       [3, 3, 3, ..., 3, 3, 3],\n",
       "       [3, 3, 3, ..., 3, 3, 3]])"
      ]
     },
     "execution_count": 206,
     "metadata": {},
     "output_type": "execute_result"
    }
   ],
   "source": [
    "np.random.randint(3,4 ,(50,60))"
   ]
  },
  {
   "cell_type": "code",
   "execution_count": 207,
   "id": "88797ace-7fb5-4893-954a-047917637d29",
   "metadata": {},
   "outputs": [],
   "source": [
    "pd.DataFrame(np.random.randint(3,4 ,(50,60))).to_csv(\"text.csv\")"
   ]
  },
  {
   "cell_type": "code",
   "execution_count": 208,
   "id": "d482dc13-3672-425c-87cd-245246472de7",
   "metadata": {},
   "outputs": [
    {
     "data": {
      "text/plain": [
       "array([[0.53947251, 0.52987153, 0.11596439, 0.30402571],\n",
       "       [0.91411077, 0.68976579, 0.11087637, 0.70011258],\n",
       "       [0.25024606, 0.28897492, 0.6960524 , 0.46129077]])"
      ]
     },
     "execution_count": 208,
     "metadata": {},
     "output_type": "execute_result"
    }
   ],
   "source": [
    "ar = np.random.rand(3,4)\n",
    "ar"
   ]
  },
  {
   "cell_type": "code",
   "execution_count": 212,
   "id": "b84481a4-8ed1-4f77-ad4a-c88d5aa5e7dd",
   "metadata": {},
   "outputs": [
    {
     "data": {
      "text/plain": [
       "array([[0.53947251, 0.52987153],\n",
       "       [0.11596439, 0.30402571],\n",
       "       [0.91411077, 0.68976579],\n",
       "       [0.11087637, 0.70011258],\n",
       "       [0.25024606, 0.28897492],\n",
       "       [0.6960524 , 0.46129077]])"
      ]
     },
     "execution_count": 212,
     "metadata": {},
     "output_type": "execute_result"
    }
   ],
   "source": [
    "s = ar.reshape(6,2)\n",
    "s"
   ]
  },
  {
   "cell_type": "code",
   "execution_count": 214,
   "id": "f1e6889d-964a-4b0c-9ef0-151ec51ca58a",
   "metadata": {},
   "outputs": [
    {
     "data": {
      "text/plain": [
       "0.5394725098011095"
      ]
     },
     "execution_count": 214,
     "metadata": {},
     "output_type": "execute_result"
    }
   ],
   "source": [
    "s[0][0]"
   ]
  },
  {
   "cell_type": "code",
   "execution_count": 224,
   "id": "50824251-c720-4272-8f3e-c9dedb6de381",
   "metadata": {},
   "outputs": [
    {
     "data": {
      "text/plain": [
       "array([0.11596439, 0.91411077, 0.11087637])"
      ]
     },
     "execution_count": 224,
     "metadata": {},
     "output_type": "execute_result"
    }
   ],
   "source": [
    "s[1:4:,0]"
   ]
  },
  {
   "cell_type": "code",
   "execution_count": 235,
   "id": "c469cfab-238f-46cc-b658-0ee0d077741f",
   "metadata": {},
   "outputs": [
    {
     "data": {
      "text/plain": [
       "array([[36, 11, 22, 38, 16],\n",
       "       [20,  8, 38, 11, 35],\n",
       "       [30, 30, 30, 33, 33],\n",
       "       [31, 33, 12, 37,  9]])"
      ]
     },
     "execution_count": 235,
     "metadata": {},
     "output_type": "execute_result"
    }
   ],
   "source": [
    "ar = np.random.randint(3,40 ,(4,5))\n",
    "ar"
   ]
  },
  {
   "cell_type": "code",
   "execution_count": 236,
   "id": "b6f8d947-ec41-4510-9f54-aec4af248007",
   "metadata": {},
   "outputs": [
    {
     "data": {
      "text/plain": [
       "array([[ True, False,  True,  True, False],\n",
       "       [False, False,  True, False,  True],\n",
       "       [ True,  True,  True,  True,  True],\n",
       "       [ True,  True, False,  True, False]])"
      ]
     },
     "execution_count": 236,
     "metadata": {},
     "output_type": "execute_result"
    }
   ],
   "source": [
    "ar>20   # to collect data is grater than 20"
   ]
  },
  {
   "cell_type": "code",
   "execution_count": 237,
   "id": "41fc7e1a-f37c-434b-b197-983eb14b18ee",
   "metadata": {},
   "outputs": [
    {
     "data": {
      "text/plain": [
       "array([36, 22, 38, 38, 35, 30, 30, 30, 33, 33, 31, 33, 37])"
      ]
     },
     "execution_count": 237,
     "metadata": {},
     "output_type": "execute_result"
    }
   ],
   "source": [
    "ar[ar>20]   #to collect data is grater than 20"
   ]
  },
  {
   "cell_type": "code",
   "execution_count": 238,
   "id": "5b17bd57-cdb8-4347-93dd-715dee3e2011",
   "metadata": {},
   "outputs": [
    {
     "data": {
      "text/plain": [
       "array([[36, 11, 22, 38, 16],\n",
       "       [20,  8, 38, 11, 35],\n",
       "       [30, 30, 30, 33, 33],\n",
       "       [31, 33, 12, 37,  9]])"
      ]
     },
     "execution_count": 238,
     "metadata": {},
     "output_type": "execute_result"
    }
   ],
   "source": [
    "ar"
   ]
  },
  {
   "cell_type": "code",
   "execution_count": 240,
   "id": "9e986fd0-c999-4f3d-ad6a-15bf3867ac59",
   "metadata": {},
   "outputs": [
    {
     "data": {
      "text/plain": [
       "array([[38, 11],\n",
       "       [30, 33]])"
      ]
     },
     "execution_count": 240,
     "metadata": {},
     "output_type": "execute_result"
    }
   ],
   "source": [
    "ar[1:3,[2,3]]"
   ]
  },
  {
   "cell_type": "code",
   "execution_count": 244,
   "id": "173f8730-20b2-48c8-bdca-0a08b2d36450",
   "metadata": {},
   "outputs": [
    {
     "data": {
      "text/plain": [
       "array([[33, 33],\n",
       "       [37,  9]])"
      ]
     },
     "execution_count": 244,
     "metadata": {},
     "output_type": "execute_result"
    }
   ],
   "source": [
    "ar[2:4,[3,4]]"
   ]
  },
  {
   "cell_type": "code",
   "execution_count": 246,
   "id": "5cb12044-c450-4056-8dd4-293fa748bacf",
   "metadata": {},
   "outputs": [
    {
     "data": {
      "text/plain": [
       "array([[100,  11,  22,  38,  16],\n",
       "       [ 20,   8,  38,  11,  35],\n",
       "       [ 30,  30,  30,  33,  33],\n",
       "       [ 31,  33,  12,  37,   9]])"
      ]
     },
     "execution_count": 246,
     "metadata": {},
     "output_type": "execute_result"
    }
   ],
   "source": [
    "ar[0][0]=100\n",
    "ar"
   ]
  },
  {
   "cell_type": "code",
   "execution_count": 250,
   "id": "4332a6e3-32ea-47e0-a9f3-8d2b635aaa27",
   "metadata": {},
   "outputs": [
    {
     "data": {
      "text/plain": [
       "array([[ 100,   11,   22,   38,   16],\n",
       "       [  20,    8,   38,   11,   35],\n",
       "       [  30,   30,   30,   33,   33],\n",
       "       [  31,   33,   12,   37, 1000]])"
      ]
     },
     "execution_count": 250,
     "metadata": {},
     "output_type": "execute_result"
    }
   ],
   "source": [
    "ar[3][4] =1000\n",
    "ar"
   ]
  },
  {
   "cell_type": "code",
   "execution_count": 263,
   "id": "51ba9c7d-9f44-4898-9334-0ec0c5dce97a",
   "metadata": {},
   "outputs": [],
   "source": [
    "ar1 = np.random.randint(1,3 ,(3,3))\n",
    "ar2= np.random.randint(1,3 ,(3,3))"
   ]
  },
  {
   "cell_type": "code",
   "execution_count": 264,
   "id": "16153b15-72b3-49b3-bf10-a42725c93282",
   "metadata": {},
   "outputs": [
    {
     "data": {
      "text/plain": [
       "array([[2, 1, 2],\n",
       "       [2, 1, 1],\n",
       "       [1, 1, 2]])"
      ]
     },
     "execution_count": 264,
     "metadata": {},
     "output_type": "execute_result"
    }
   ],
   "source": [
    "ar1"
   ]
  },
  {
   "cell_type": "code",
   "execution_count": 265,
   "id": "a8cc8cc6-a07b-4a8d-9412-de2463de4786",
   "metadata": {},
   "outputs": [
    {
     "data": {
      "text/plain": [
       "array([[1, 1, 2],\n",
       "       [2, 2, 2],\n",
       "       [2, 1, 1]])"
      ]
     },
     "execution_count": 265,
     "metadata": {},
     "output_type": "execute_result"
    }
   ],
   "source": [
    "ar2"
   ]
  },
  {
   "cell_type": "code",
   "execution_count": 266,
   "id": "b14f893d-5efb-4e4a-9853-c05025472640",
   "metadata": {},
   "outputs": [
    {
     "data": {
      "text/plain": [
       "array([[3, 2, 4],\n",
       "       [4, 3, 3],\n",
       "       [3, 2, 3]])"
      ]
     },
     "execution_count": 266,
     "metadata": {},
     "output_type": "execute_result"
    }
   ],
   "source": [
    "ar1+ar2"
   ]
  },
  {
   "cell_type": "code",
   "execution_count": 268,
   "id": "14d94abc-6536-4e3d-9fb4-0b98c7082367",
   "metadata": {},
   "outputs": [
    {
     "data": {
      "text/plain": [
       "array([[2, 1, 4],\n",
       "       [4, 2, 2],\n",
       "       [2, 1, 2]])"
      ]
     },
     "execution_count": 268,
     "metadata": {},
     "output_type": "execute_result"
    }
   ],
   "source": [
    "ar1*ar2"
   ]
  },
  {
   "cell_type": "code",
   "execution_count": 270,
   "id": "45d37db7-c26a-41e1-8bf4-c1cd5cf7f5a2",
   "metadata": {},
   "outputs": [
    {
     "data": {
      "text/plain": [
       "array([[8, 6, 8],\n",
       "       [6, 5, 7],\n",
       "       [7, 5, 6]])"
      ]
     },
     "execution_count": 270,
     "metadata": {},
     "output_type": "execute_result"
    }
   ],
   "source": [
    "ar1@ar2    #Proper mattrix multiplication"
   ]
  },
  {
   "cell_type": "code",
   "execution_count": 272,
   "id": "a28060fd-d2b3-4974-a772-acaefc234325",
   "metadata": {},
   "outputs": [
    {
     "data": {
      "text/plain": [
       "array([[3, 2, 3],\n",
       "       [3, 2, 2],\n",
       "       [2, 2, 3]])"
      ]
     },
     "execution_count": 272,
     "metadata": {},
     "output_type": "execute_result"
    }
   ],
   "source": [
    "ar1+1"
   ]
  },
  {
   "cell_type": "code",
   "execution_count": 273,
   "id": "d8555133-b64a-40ef-8dc7-46e9492e8805",
   "metadata": {},
   "outputs": [
    {
     "data": {
      "text/plain": [
       "array([[2, 2, 4],\n",
       "       [4, 4, 4],\n",
       "       [4, 2, 2]])"
      ]
     },
     "execution_count": 273,
     "metadata": {},
     "output_type": "execute_result"
    }
   ],
   "source": [
    "ar2 *2"
   ]
  },
  {
   "cell_type": "code",
   "execution_count": 12,
   "id": "eab7d7d3-961c-4ece-a016-67caeec0d1e6",
   "metadata": {},
   "outputs": [],
   "source": [
    "ar =np.zeros((4,4))"
   ]
  },
  {
   "cell_type": "code",
   "execution_count": 13,
   "id": "d2b92841-5bb3-4d2e-a8cf-cf1af52fd9c3",
   "metadata": {},
   "outputs": [
    {
     "data": {
      "text/plain": [
       "array([[0., 0., 0., 0.],\n",
       "       [0., 0., 0., 0.],\n",
       "       [0., 0., 0., 0.],\n",
       "       [0., 0., 0., 0.]])"
      ]
     },
     "execution_count": 13,
     "metadata": {},
     "output_type": "execute_result"
    }
   ],
   "source": [
    "ar"
   ]
  },
  {
   "cell_type": "code",
   "execution_count": 8,
   "id": "ddb413a6-49a0-4b3f-bba2-9bdb834bb4be",
   "metadata": {},
   "outputs": [],
   "source": [
    "row = np.array([1,2,3,4])"
   ]
  },
  {
   "cell_type": "code",
   "execution_count": 14,
   "id": "e294b5dc-12d6-4d68-8c32-138c20bcebc7",
   "metadata": {},
   "outputs": [
    {
     "data": {
      "text/plain": [
       "array([[1., 2., 3., 4.],\n",
       "       [1., 2., 3., 4.],\n",
       "       [1., 2., 3., 4.],\n",
       "       [1., 2., 3., 4.]])"
      ]
     },
     "execution_count": 14,
     "metadata": {},
     "output_type": "execute_result"
    }
   ],
   "source": [
    "ar+row"
   ]
  },
  {
   "cell_type": "code",
   "execution_count": 15,
   "id": "352a0df7-384c-4bde-b61c-7e479b94ff9c",
   "metadata": {},
   "outputs": [],
   "source": [
    "col = np.array([[1,2,3,4]])"
   ]
  },
  {
   "cell_type": "code",
   "execution_count": 17,
   "id": "6c22862d-5091-40cd-a392-d8ffc7a92971",
   "metadata": {},
   "outputs": [
    {
     "data": {
      "text/plain": [
       "array([[1., 1., 1., 1.],\n",
       "       [2., 2., 2., 2.],\n",
       "       [3., 3., 3., 3.],\n",
       "       [4., 4., 4., 4.]])"
      ]
     },
     "execution_count": 17,
     "metadata": {},
     "output_type": "execute_result"
    }
   ],
   "source": [
    "ar+col.T"
   ]
  },
  {
   "cell_type": "code",
   "execution_count": 18,
   "id": "d88b2a7d-b5ae-4eb3-becb-36a97ad04166",
   "metadata": {},
   "outputs": [
    {
     "data": {
      "text/plain": [
       "array([[0., 0., 0., 0.],\n",
       "       [0., 0., 0., 0.],\n",
       "       [0., 0., 0., 0.],\n",
       "       [0., 0., 0., 0.]])"
      ]
     },
     "execution_count": 18,
     "metadata": {},
     "output_type": "execute_result"
    }
   ],
   "source": [
    "ar*col.T"
   ]
  },
  {
   "cell_type": "markdown",
   "id": "9b52731d-813b-49e2-97d7-2a1d4700d0e8",
   "metadata": {},
   "source": [
    "## Numpy part two"
   ]
  },
  {
   "cell_type": "code",
   "execution_count": null,
   "id": "1cf4cec9-69da-4b1a-b879-c5afccdd6e14",
   "metadata": {},
   "outputs": [],
   "source": [
    "# Numpy "
   ]
  }
 ],
 "metadata": {
  "kernelspec": {
   "display_name": "Python 3 (ipykernel)",
   "language": "python",
   "name": "python3"
  },
  "language_info": {
   "codemirror_mode": {
    "name": "ipython",
    "version": 3
   },
   "file_extension": ".py",
   "mimetype": "text/x-python",
   "name": "python",
   "nbconvert_exporter": "python",
   "pygments_lexer": "ipython3",
   "version": "3.10.8"
  }
 },
 "nbformat": 4,
 "nbformat_minor": 5
}
